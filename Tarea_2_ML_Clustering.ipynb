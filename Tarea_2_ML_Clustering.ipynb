{
  "nbformat": 4,
  "nbformat_minor": 0,
  "metadata": {
    "colab": {
      "provenance": [],
      "authorship_tag": "ABX9TyO3Rn03IHszyq233hBbPc2F",
      "include_colab_link": true
    },
    "kernelspec": {
      "name": "python3",
      "display_name": "Python 3"
    },
    "language_info": {
      "name": "python"
    }
  },
  "cells": [
    {
      "cell_type": "markdown",
      "metadata": {
        "id": "view-in-github",
        "colab_type": "text"
      },
      "source": [
        "<a href=\"https://colab.research.google.com/github/G10v4l4rc0n/Tarea2_MachineLearning/blob/ethan/Tarea_2_ML_Clustering.ipynb\" target=\"_parent\"><img src=\"https://colab.research.google.com/assets/colab-badge.svg\" alt=\"Open In Colab\"/></a>"
      ]
    },
    {
      "cell_type": "code",
      "execution_count": null,
      "metadata": {
        "id": "xubyjnOUfUqN"
      },
      "outputs": [],
      "source": [
        "!pip install ucimlrepo"
      ]
    },
    {
      "cell_type": "markdown",
      "source": [
        "## 1. Importar librerías"
      ],
      "metadata": {
        "id": "4BRDPHFRfxAx"
      }
    },
    {
      "cell_type": "code",
      "source": [
        "from ucimlrepo import fetch_ucirepo\n",
        "import pandas as pd\n",
        "import matplotlib.pyplot as plt\n",
        "import seaborn as sns\n",
        "from sklearn.cluster import KMeans, DBSCAN\n",
        "from sklearn.preprocessing import StandardScaler"
      ],
      "metadata": {
        "id": "QaIPZsOnflaD"
      },
      "execution_count": null,
      "outputs": []
    },
    {
      "cell_type": "markdown",
      "source": [
        "## 2. Obtener Dataset de billetes falsos"
      ],
      "metadata": {
        "id": "ICgLbMa3f6PX"
      }
    },
    {
      "cell_type": "code",
      "source": [
        "# fetch dataset\n",
        "banknote_authentication = fetch_ucirepo(id=267)\n",
        "\n",
        "# data (as pandas dataframes)\n",
        "X = banknote_authentication.data.features\n",
        "y = banknote_authentication.data.targets"
      ],
      "metadata": {
        "id": "8J2ADXbrfnpJ"
      },
      "execution_count": null,
      "outputs": []
    },
    {
      "cell_type": "markdown",
      "source": [
        "## 3. Exploración de datos"
      ],
      "metadata": {
        "id": "vfv78lkjgC03"
      }
    },
    {
      "cell_type": "code",
      "source": [
        "banknote = pd.DataFrame(data=banknote_authentication.data.features, columns=banknote_authentication.data.feature_names)\n",
        "banknote['class'] = banknote_authentication.data.targets\n",
        "banknote.head()"
      ],
      "metadata": {
        "id": "xC0PNgPAfuli"
      },
      "execution_count": null,
      "outputs": []
    }
  ]
}